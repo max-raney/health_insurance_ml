{
 "cells": [
  {
   "cell_type": "markdown",
   "metadata": {},
   "source": [
    "# Insurance Cost Prediction Project\n",
    "\n",
    "## Group Number: 400\n",
    "## Team Members:\n",
    "- Max Raney\n",
    "- [Member 2 Name]\n",
    "- [Member 3 Name]"
   ]
  },
  {
   "cell_type": "markdown",
   "metadata": {},
   "source": [
    "# Insurance Cost Prediction Project\n",
    "\n",
    "## Overview\n",
    "This Jupyter notebook presents the code for the Insurance Cost Prediction project. The goal is to build and compare machine learning models for predicting insurance costs based on various features, including age, sex, BMI, and location.\n",
    "\n",
    "## Contents\n",
    "1. [Data Loading](#data-loading)\n",
    "2. [Data Preprocessing](#data-preprocessing)\n",
    "3. [Model Training - Linear Regression](#model-training-linear-regression)\n",
    "4. [Model Training - Random Forests](#model-training-random-forests)\n",
    "5. [Model Training - AdaBoost](#model-training-adaboost)\n",
    "6. [Model Training - Gradient Boosting](#model-training-gradient-boosting)\n",
    "7. [Model Training - Neural Network](#model-training-neural-network)\n",
    "8. [Model Comparison](#model-comparison)"
   ]
  },
  {
   "cell_type": "markdown",
   "metadata": {},
   "source": [
    "## 1. Loading\n",
    "Code for loading the dataset and libraries required for the project."
   ]
  },
  {
   "cell_type": "code",
   "execution_count": null,
   "metadata": {
    "vscode": {
     "languageId": "plaintext"
    }
   },
   "outputs": [],
   "source": []
  },
  {
   "cell_type": "markdown",
   "metadata": {},
   "source": [
    "## 2. Data Preprocessing\n",
    "Code for preprocessing the data, including handling missing values, encoding categorical variables, and scaling features."
   ]
  },
  {
   "cell_type": "code",
   "execution_count": null,
   "metadata": {},
   "outputs": [],
   "source": [
    "# edit the above description when processing steps are ready"
   ]
  }
 ],
 "metadata": {
  "language_info": {
   "name": "python"
  }
 },
 "nbformat": 4,
 "nbformat_minor": 2
}
