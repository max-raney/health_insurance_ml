{
 "cells": [
  {
   "cell_type": "markdown",
   "metadata": {},
   "source": [
    "# Insurance Cost Prediction Project\n",
    "\n",
    "## Group Number: 400\n",
    "## Team Members:\n",
    "- Max Raney\n",
    "- [Member 2 Name]\n",
    "- [Member 3 Name]"
   ]
  },
  {
   "cell_type": "markdown",
   "metadata": {},
   "source": [
    "# Insurance Cost Prediction Project\n",
    "\n",
    "## Overview\n",
    "This Jupyter notebook presents the code for the Insurance Cost Prediction project. The goal is to build and compare machine learning models for predicting insurance costs based on various features, including age, sex, BMI, and location.\n",
    "\n",
    "## Contents\n",
    "1. [Data Loading](#data-loading)\n",
    "2. [Data Preprocessing](#data-preprocessing)\n",
    "3. [Model Training - Linear Regression](#model-training-linear-regression)\n",
    "4. [Model Training - Random Forests](#model-training-random-forests)\n",
    "5. [Model Training - AdaBoost](#model-training-adaboost)\n",
    "6. [Model Training - Gradient Boosting](#model-training-gradient-boosting)\n",
    "7. [Model Training - Neural Network](#model-training-neural-network)\n",
    "8. [Model Comparison](#model-comparison)"
   ]
  },
  {
   "cell_type": "markdown",
   "metadata": {},
   "source": [
    "## 1. Loading\n",
    "Code for loading the dataset and libraries required for the project."
   ]
  },
  {
   "cell_type": "code",
   "execution_count": 2,
   "metadata": {},
   "outputs": [
    {
     "name": "stdout",
     "output_type": "stream",
     "text": [
      "WARNING:tensorflow:From C:\\Users\\Max\\AppData\\Local\\Packages\\PythonSoftwareFoundation.Python.3.10_qbz5n2kfra8p0\\LocalCache\\local-packages\\Python310\\site-packages\\keras\\src\\losses.py:2976: The name tf.losses.sparse_softmax_cross_entropy is deprecated. Please use tf.compat.v1.losses.sparse_softmax_cross_entropy instead.\n",
      "\n"
     ]
    }
   ],
   "source": [
    "# Import libraries\n",
    "import numpy as np\n",
    "import pandas as pd\n",
    "import matplotlib.pyplot as plt\n",
    "from sklearn.model_selection import train_test_split\n",
    "from sklearn.linear_model import LinearRegression\n",
    "from sklearn.ensemble import RandomForestRegressor, AdaBoostRegressor, GradientBoostingRegressor\n",
    "from sklearn.neural_network import MLPRegressor\n",
    "from sklearn.metrics import mean_squared_error, r2_score\n",
    "from sklearn.preprocessing import StandardScaler, MinMaxScaler\n",
    "from tensorflow.keras.models import Sequential\n",
    "from tensorflow.keras.layers import Dense\n",
    "from tensorflow.keras.optimizers import Adam\n",
    "\n",
    "\n",
    "\n",
    "\n",
    "%matplotlib inline"
   ]
  },
  {
   "cell_type": "code",
   "execution_count": 3,
   "metadata": {},
   "outputs": [
    {
     "data": {
      "text/html": [
       "<div>\n",
       "<style scoped>\n",
       "    .dataframe tbody tr th:only-of-type {\n",
       "        vertical-align: middle;\n",
       "    }\n",
       "\n",
       "    .dataframe tbody tr th {\n",
       "        vertical-align: top;\n",
       "    }\n",
       "\n",
       "    .dataframe thead th {\n",
       "        text-align: right;\n",
       "    }\n",
       "</style>\n",
       "<table border=\"1\" class=\"dataframe\">\n",
       "  <thead>\n",
       "    <tr style=\"text-align: right;\">\n",
       "      <th></th>\n",
       "      <th>age</th>\n",
       "      <th>sex</th>\n",
       "      <th>bmi</th>\n",
       "      <th>children</th>\n",
       "      <th>smoker</th>\n",
       "      <th>region</th>\n",
       "      <th>charges</th>\n",
       "    </tr>\n",
       "  </thead>\n",
       "  <tbody>\n",
       "    <tr>\n",
       "      <th>0</th>\n",
       "      <td>19</td>\n",
       "      <td>female</td>\n",
       "      <td>27.900</td>\n",
       "      <td>0</td>\n",
       "      <td>yes</td>\n",
       "      <td>southwest</td>\n",
       "      <td>16884.92400</td>\n",
       "    </tr>\n",
       "    <tr>\n",
       "      <th>1</th>\n",
       "      <td>18</td>\n",
       "      <td>male</td>\n",
       "      <td>33.770</td>\n",
       "      <td>1</td>\n",
       "      <td>no</td>\n",
       "      <td>southeast</td>\n",
       "      <td>1725.55230</td>\n",
       "    </tr>\n",
       "    <tr>\n",
       "      <th>2</th>\n",
       "      <td>28</td>\n",
       "      <td>male</td>\n",
       "      <td>33.000</td>\n",
       "      <td>3</td>\n",
       "      <td>no</td>\n",
       "      <td>southeast</td>\n",
       "      <td>4449.46200</td>\n",
       "    </tr>\n",
       "    <tr>\n",
       "      <th>3</th>\n",
       "      <td>33</td>\n",
       "      <td>male</td>\n",
       "      <td>22.705</td>\n",
       "      <td>0</td>\n",
       "      <td>no</td>\n",
       "      <td>northwest</td>\n",
       "      <td>21984.47061</td>\n",
       "    </tr>\n",
       "    <tr>\n",
       "      <th>4</th>\n",
       "      <td>32</td>\n",
       "      <td>male</td>\n",
       "      <td>28.880</td>\n",
       "      <td>0</td>\n",
       "      <td>no</td>\n",
       "      <td>northwest</td>\n",
       "      <td>3866.85520</td>\n",
       "    </tr>\n",
       "  </tbody>\n",
       "</table>\n",
       "</div>"
      ],
      "text/plain": [
       "   age     sex     bmi  children smoker     region      charges\n",
       "0   19  female  27.900         0    yes  southwest  16884.92400\n",
       "1   18    male  33.770         1     no  southeast   1725.55230\n",
       "2   28    male  33.000         3     no  southeast   4449.46200\n",
       "3   33    male  22.705         0     no  northwest  21984.47061\n",
       "4   32    male  28.880         0     no  northwest   3866.85520"
      ]
     },
     "execution_count": 3,
     "metadata": {},
     "output_type": "execute_result"
    }
   ],
   "source": [
    "# Load the data\n",
    "data = pd.read_csv('insurance.csv')\n",
    "data.head()"
   ]
  },
  {
   "cell_type": "markdown",
   "metadata": {},
   "source": [
    "## 2. Data Preprocessing\n",
    "This section covers the preprocessing steps applied to the insurance dataset before building the predictive models."
   ]
  },
  {
   "cell_type": "code",
   "execution_count": 4,
   "metadata": {},
   "outputs": [
    {
     "data": {
      "text/html": [
       "<div>\n",
       "<style scoped>\n",
       "    .dataframe tbody tr th:only-of-type {\n",
       "        vertical-align: middle;\n",
       "    }\n",
       "\n",
       "    .dataframe tbody tr th {\n",
       "        vertical-align: top;\n",
       "    }\n",
       "\n",
       "    .dataframe thead th {\n",
       "        text-align: right;\n",
       "    }\n",
       "</style>\n",
       "<table border=\"1\" class=\"dataframe\">\n",
       "  <thead>\n",
       "    <tr style=\"text-align: right;\">\n",
       "      <th></th>\n",
       "      <th>age</th>\n",
       "      <th>bmi</th>\n",
       "      <th>children</th>\n",
       "      <th>charges</th>\n",
       "      <th>sex_male</th>\n",
       "      <th>smoker_yes</th>\n",
       "      <th>region_northwest</th>\n",
       "      <th>region_southeast</th>\n",
       "      <th>region_southwest</th>\n",
       "    </tr>\n",
       "  </thead>\n",
       "  <tbody>\n",
       "    <tr>\n",
       "      <th>0</th>\n",
       "      <td>-1.438764</td>\n",
       "      <td>-0.453320</td>\n",
       "      <td>-0.908614</td>\n",
       "      <td>16884.92400</td>\n",
       "      <td>False</td>\n",
       "      <td>True</td>\n",
       "      <td>False</td>\n",
       "      <td>False</td>\n",
       "      <td>True</td>\n",
       "    </tr>\n",
       "    <tr>\n",
       "      <th>1</th>\n",
       "      <td>-1.509965</td>\n",
       "      <td>0.509621</td>\n",
       "      <td>-0.078767</td>\n",
       "      <td>1725.55230</td>\n",
       "      <td>True</td>\n",
       "      <td>False</td>\n",
       "      <td>False</td>\n",
       "      <td>True</td>\n",
       "      <td>False</td>\n",
       "    </tr>\n",
       "    <tr>\n",
       "      <th>2</th>\n",
       "      <td>-0.797954</td>\n",
       "      <td>0.383307</td>\n",
       "      <td>1.580926</td>\n",
       "      <td>4449.46200</td>\n",
       "      <td>True</td>\n",
       "      <td>False</td>\n",
       "      <td>False</td>\n",
       "      <td>True</td>\n",
       "      <td>False</td>\n",
       "    </tr>\n",
       "    <tr>\n",
       "      <th>3</th>\n",
       "      <td>-0.441948</td>\n",
       "      <td>-1.305531</td>\n",
       "      <td>-0.908614</td>\n",
       "      <td>21984.47061</td>\n",
       "      <td>True</td>\n",
       "      <td>False</td>\n",
       "      <td>True</td>\n",
       "      <td>False</td>\n",
       "      <td>False</td>\n",
       "    </tr>\n",
       "    <tr>\n",
       "      <th>4</th>\n",
       "      <td>-0.513149</td>\n",
       "      <td>-0.292556</td>\n",
       "      <td>-0.908614</td>\n",
       "      <td>3866.85520</td>\n",
       "      <td>True</td>\n",
       "      <td>False</td>\n",
       "      <td>True</td>\n",
       "      <td>False</td>\n",
       "      <td>False</td>\n",
       "    </tr>\n",
       "  </tbody>\n",
       "</table>\n",
       "</div>"
      ],
      "text/plain": [
       "        age       bmi  children      charges  sex_male  smoker_yes  \\\n",
       "0 -1.438764 -0.453320 -0.908614  16884.92400     False        True   \n",
       "1 -1.509965  0.509621 -0.078767   1725.55230      True       False   \n",
       "2 -0.797954  0.383307  1.580926   4449.46200      True       False   \n",
       "3 -0.441948 -1.305531 -0.908614  21984.47061      True       False   \n",
       "4 -0.513149 -0.292556 -0.908614   3866.85520      True       False   \n",
       "\n",
       "   region_northwest  region_southeast  region_southwest  \n",
       "0             False             False              True  \n",
       "1             False              True             False  \n",
       "2             False              True             False  \n",
       "3              True             False             False  \n",
       "4              True             False             False  "
      ]
     },
     "execution_count": 4,
     "metadata": {},
     "output_type": "execute_result"
    }
   ],
   "source": [
    "# 1. Encode Categorical Variables\n",
    "data_encoded = pd.get_dummies(data, columns=['sex', 'smoker', 'region'], drop_first=True)\n",
    "\n",
    "# 2. Feature Scaling\n",
    "# Extract numerical features\n",
    "numerical_features = ['age', 'bmi', 'children']\n",
    "\n",
    "# Create a scaler object\n",
    "scaler = StandardScaler()\n",
    "\n",
    "# Apply scaling to numerical features\n",
    "data_encoded[numerical_features] = scaler.fit_transform(data_encoded[numerical_features])\n",
    "\n",
    "data_encoded.head()"
   ]
  },
  {
   "cell_type": "code",
   "execution_count": 5,
   "metadata": {},
   "outputs": [
    {
     "name": "stdout",
     "output_type": "stream",
     "text": [
      "Training set - Features: (1070, 8) Target: (1070,)\n",
      "Testing set - Features: (268, 8) Target: (268,)\n"
     ]
    }
   ],
   "source": [
    "# Split the data into features (X) and target variable (y)\n",
    "X = data_encoded.drop('charges', axis=1)\n",
    "y = data_encoded['charges']\n",
    "\n",
    "# Split the data into training and testing sets (80-20 split)\n",
    "X_train, X_test, y_train, y_test = train_test_split(X, y, test_size=0.2, random_state=42)\n",
    "\n",
    "# Display data\n",
    "print(\"Training set - Features:\", X_train.shape, \"Target:\", y_train.shape)\n",
    "print(\"Testing set - Features:\", X_test.shape, \"Target:\", y_test.shape)"
   ]
  },
  {
   "cell_type": "markdown",
   "metadata": {},
   "source": [
    "## 3. Model Training - Linear Regression\n",
    "Code for training the linear regression model."
   ]
  },
  {
   "cell_type": "code",
   "execution_count": 6,
   "metadata": {},
   "outputs": [
    {
     "name": "stdout",
     "output_type": "stream",
     "text": [
      "Mean Squared Error: 33596915.85136146\n",
      "Mean Absolute Error: 4181.1944737536505\n",
      "Root Mean Squared Error: 5796.2846592762735\n",
      "R-squared: 0.7835929767120723\n"
     ]
    }
   ],
   "source": [
    "# Train model\n",
    "linear_reg_model = LinearRegression()\n",
    "linear_reg_model.fit(X_train, y_train)\n",
    "\n",
    "# Predictions on the test set\n",
    "y_pred_linear_reg = linear_reg_model.predict(X_test)\n",
    "\n",
    "# Evaluate mse and r2\n",
    "mse_linear_reg = mean_squared_error(y_test, y_pred_linear_reg)\n",
    "mae_linear_reg = np.mean(np.abs(y_test - y_pred_linear_reg))\n",
    "rmse_linear_reg = np.sqrt(mse_linear_reg)\n",
    "r2_linear_reg = r2_score(y_test, y_pred_linear_reg)\n",
    "\n",
    "print(\"Mean Squared Error:\", mse_linear_reg)\n",
    "print(\"Mean Absolute Error:\", mae_linear_reg)\n",
    "print(\"Root Mean Squared Error:\", rmse_linear_reg)\n",
    "print(\"R-squared:\", r2_linear_reg)"
   ]
  },
  {
   "cell_type": "markdown",
   "metadata": {},
   "source": [
    "## 4. Model Training - Random Forests\n",
    "Code for training the random forests model."
   ]
  },
  {
   "cell_type": "code",
   "execution_count": null,
   "metadata": {},
   "outputs": [],
   "source": []
  },
  {
   "cell_type": "markdown",
   "metadata": {},
   "source": [
    "## 5. Model Training - AdaBoost\n",
    "Code for training the AdaBoost model.\n"
   ]
  },
  {
   "cell_type": "code",
   "execution_count": null,
   "metadata": {},
   "outputs": [],
   "source": []
  },
  {
   "cell_type": "markdown",
   "metadata": {},
   "source": [
    "## 6. Model Training - Gradient Boosting\n",
    "Code for training the gradient boosting model."
   ]
  },
  {
   "cell_type": "code",
   "execution_count": null,
   "metadata": {},
   "outputs": [],
   "source": []
  },
  {
   "cell_type": "markdown",
   "metadata": {},
   "source": [
    "## 7. Model Training - Neural Network\n",
    "- 8 neurons in the first layer\n",
    "- Using relu since it is the most commonly used activation function. Introduces non-linearily. \n",
    "- reserve 10% of the model for validation"
   ]
  },
  {
   "cell_type": "code",
   "execution_count": 11,
   "metadata": {},
   "outputs": [],
   "source": [
    "# Adapt data for Neural Net\n",
    "scaler = MinMaxScaler()\n",
    "X_scaled = scaler.fit_transform(X)\n",
    "y_scaled = scaler.fit_transform(y.values.reshape(-1, 1))\n",
    "\n",
    "X_train_nn, X_test_nn, y_train_nn, y_test_nn = train_test_split(X_scaled, y_scaled, test_size=0.2, random_state=42)"
   ]
  },
  {
   "cell_type": "code",
   "execution_count": 13,
   "metadata": {},
   "outputs": [
    {
     "name": "stdout",
     "output_type": "stream",
     "text": [
      "Epoch 1/100\n",
      "WARNING:tensorflow:From C:\\Users\\Max\\AppData\\Local\\Packages\\PythonSoftwareFoundation.Python.3.10_qbz5n2kfra8p0\\LocalCache\\local-packages\\Python310\\site-packages\\keras\\src\\utils\\tf_utils.py:492: The name tf.ragged.RaggedTensorValue is deprecated. Please use tf.compat.v1.ragged.RaggedTensorValue instead.\n",
      "\n",
      "WARNING:tensorflow:From C:\\Users\\Max\\AppData\\Local\\Packages\\PythonSoftwareFoundation.Python.3.10_qbz5n2kfra8p0\\LocalCache\\local-packages\\Python310\\site-packages\\keras\\src\\engine\\base_layer_utils.py:384: The name tf.executing_eagerly_outside_functions is deprecated. Please use tf.compat.v1.executing_eagerly_outside_functions instead.\n",
      "\n",
      "49/49 [==============================] - 1s 8ms/step - loss: 0.2581 - mae: 0.3859 - val_loss: 0.1231 - val_mae: 0.2787\n",
      "Epoch 2/100\n",
      "49/49 [==============================] - 0s 4ms/step - loss: 0.1338 - mae: 0.2857 - val_loss: 0.0722 - val_mae: 0.2139\n",
      "Epoch 3/100\n",
      "49/49 [==============================] - 0s 3ms/step - loss: 0.0766 - mae: 0.2162 - val_loss: 0.0438 - val_mae: 0.1667\n",
      "Epoch 4/100\n",
      "49/49 [==============================] - 0s 3ms/step - loss: 0.0447 - mae: 0.1624 - val_loss: 0.0281 - val_mae: 0.1319\n",
      "Epoch 5/100\n",
      "49/49 [==============================] - 0s 4ms/step - loss: 0.0274 - mae: 0.1254 - val_loss: 0.0196 - val_mae: 0.1138\n",
      "Epoch 6/100\n",
      "49/49 [==============================] - 0s 3ms/step - loss: 0.0191 - mae: 0.1062 - val_loss: 0.0146 - val_mae: 0.0981\n",
      "Epoch 7/100\n",
      "49/49 [==============================] - 0s 3ms/step - loss: 0.0150 - mae: 0.0937 - val_loss: 0.0122 - val_mae: 0.0883\n",
      "Epoch 8/100\n",
      "49/49 [==============================] - 0s 4ms/step - loss: 0.0132 - mae: 0.0872 - val_loss: 0.0107 - val_mae: 0.0824\n",
      "Epoch 9/100\n",
      "49/49 [==============================] - 0s 3ms/step - loss: 0.0123 - mae: 0.0840 - val_loss: 0.0098 - val_mae: 0.0781\n",
      "Epoch 10/100\n",
      "49/49 [==============================] - 0s 3ms/step - loss: 0.0117 - mae: 0.0805 - val_loss: 0.0092 - val_mae: 0.0739\n",
      "Epoch 11/100\n",
      "49/49 [==============================] - 0s 3ms/step - loss: 0.0113 - mae: 0.0787 - val_loss: 0.0088 - val_mae: 0.0708\n",
      "Epoch 12/100\n",
      "49/49 [==============================] - 0s 3ms/step - loss: 0.0110 - mae: 0.0762 - val_loss: 0.0084 - val_mae: 0.0709\n",
      "Epoch 13/100\n",
      "49/49 [==============================] - 0s 3ms/step - loss: 0.0107 - mae: 0.0765 - val_loss: 0.0083 - val_mae: 0.0678\n",
      "Epoch 14/100\n",
      "49/49 [==============================] - 0s 8ms/step - loss: 0.0104 - mae: 0.0738 - val_loss: 0.0078 - val_mae: 0.0674\n",
      "Epoch 15/100\n",
      "49/49 [==============================] - 0s 4ms/step - loss: 0.0101 - mae: 0.0718 - val_loss: 0.0078 - val_mae: 0.0652\n",
      "Epoch 16/100\n",
      "49/49 [==============================] - 0s 3ms/step - loss: 0.0099 - mae: 0.0701 - val_loss: 0.0075 - val_mae: 0.0661\n",
      "Epoch 17/100\n",
      "49/49 [==============================] - 0s 3ms/step - loss: 0.0097 - mae: 0.0699 - val_loss: 0.0075 - val_mae: 0.0609\n",
      "Epoch 18/100\n",
      "49/49 [==============================] - 0s 3ms/step - loss: 0.0095 - mae: 0.0682 - val_loss: 0.0075 - val_mae: 0.0607\n",
      "Epoch 19/100\n",
      "49/49 [==============================] - 0s 2ms/step - loss: 0.0092 - mae: 0.0667 - val_loss: 0.0071 - val_mae: 0.0630\n",
      "Epoch 20/100\n",
      "49/49 [==============================] - 0s 3ms/step - loss: 0.0091 - mae: 0.0662 - val_loss: 0.0070 - val_mae: 0.0629\n",
      "Epoch 21/100\n",
      "49/49 [==============================] - 0s 3ms/step - loss: 0.0090 - mae: 0.0661 - val_loss: 0.0072 - val_mae: 0.0568\n",
      "Epoch 22/100\n",
      "49/49 [==============================] - 0s 4ms/step - loss: 0.0089 - mae: 0.0638 - val_loss: 0.0069 - val_mae: 0.0594\n",
      "Epoch 23/100\n",
      "49/49 [==============================] - 0s 4ms/step - loss: 0.0087 - mae: 0.0637 - val_loss: 0.0068 - val_mae: 0.0594\n",
      "Epoch 24/100\n",
      "49/49 [==============================] - 0s 2ms/step - loss: 0.0087 - mae: 0.0636 - val_loss: 0.0067 - val_mae: 0.0577\n",
      "Epoch 25/100\n",
      "49/49 [==============================] - 0s 2ms/step - loss: 0.0084 - mae: 0.0627 - val_loss: 0.0069 - val_mae: 0.0546\n",
      "Epoch 26/100\n",
      "49/49 [==============================] - 0s 3ms/step - loss: 0.0084 - mae: 0.0617 - val_loss: 0.0065 - val_mae: 0.0564\n",
      "Epoch 27/100\n",
      "49/49 [==============================] - 0s 3ms/step - loss: 0.0082 - mae: 0.0616 - val_loss: 0.0068 - val_mae: 0.0522\n",
      "Epoch 28/100\n",
      "49/49 [==============================] - 0s 3ms/step - loss: 0.0082 - mae: 0.0606 - val_loss: 0.0064 - val_mae: 0.0565\n",
      "Epoch 29/100\n",
      "49/49 [==============================] - 0s 4ms/step - loss: 0.0081 - mae: 0.0604 - val_loss: 0.0062 - val_mae: 0.0541\n",
      "Epoch 30/100\n",
      "49/49 [==============================] - 0s 7ms/step - loss: 0.0081 - mae: 0.0598 - val_loss: 0.0064 - val_mae: 0.0517\n",
      "Epoch 31/100\n",
      "49/49 [==============================] - 0s 4ms/step - loss: 0.0080 - mae: 0.0599 - val_loss: 0.0065 - val_mae: 0.0507\n",
      "Epoch 32/100\n",
      "49/49 [==============================] - 0s 3ms/step - loss: 0.0079 - mae: 0.0585 - val_loss: 0.0061 - val_mae: 0.0544\n",
      "Epoch 33/100\n",
      "49/49 [==============================] - 0s 3ms/step - loss: 0.0079 - mae: 0.0587 - val_loss: 0.0063 - val_mae: 0.0498\n",
      "Epoch 34/100\n",
      "49/49 [==============================] - 0s 3ms/step - loss: 0.0078 - mae: 0.0587 - val_loss: 0.0061 - val_mae: 0.0533\n",
      "Epoch 35/100\n",
      "49/49 [==============================] - 0s 3ms/step - loss: 0.0077 - mae: 0.0581 - val_loss: 0.0063 - val_mae: 0.0476\n",
      "Epoch 36/100\n",
      "49/49 [==============================] - 0s 3ms/step - loss: 0.0079 - mae: 0.0577 - val_loss: 0.0060 - val_mae: 0.0516\n",
      "Epoch 37/100\n",
      "49/49 [==============================] - 0s 3ms/step - loss: 0.0076 - mae: 0.0568 - val_loss: 0.0059 - val_mae: 0.0528\n",
      "Epoch 38/100\n",
      "49/49 [==============================] - 0s 3ms/step - loss: 0.0076 - mae: 0.0584 - val_loss: 0.0067 - val_mae: 0.0468\n",
      "Epoch 39/100\n",
      "49/49 [==============================] - 0s 3ms/step - loss: 0.0077 - mae: 0.0567 - val_loss: 0.0060 - val_mae: 0.0482\n",
      "Epoch 40/100\n",
      "49/49 [==============================] - 0s 3ms/step - loss: 0.0075 - mae: 0.0564 - val_loss: 0.0062 - val_mae: 0.0476\n",
      "Epoch 41/100\n",
      "49/49 [==============================] - 0s 4ms/step - loss: 0.0074 - mae: 0.0564 - val_loss: 0.0060 - val_mae: 0.0465\n",
      "Epoch 42/100\n",
      "49/49 [==============================] - 0s 3ms/step - loss: 0.0074 - mae: 0.0552 - val_loss: 0.0061 - val_mae: 0.0450\n",
      "Epoch 43/100\n",
      "49/49 [==============================] - 0s 3ms/step - loss: 0.0074 - mae: 0.0562 - val_loss: 0.0058 - val_mae: 0.0480\n",
      "Epoch 44/100\n",
      "49/49 [==============================] - 0s 3ms/step - loss: 0.0073 - mae: 0.0560 - val_loss: 0.0059 - val_mae: 0.0450\n",
      "Epoch 45/100\n",
      "49/49 [==============================] - 0s 4ms/step - loss: 0.0073 - mae: 0.0547 - val_loss: 0.0057 - val_mae: 0.0488\n",
      "Epoch 46/100\n",
      "49/49 [==============================] - 0s 4ms/step - loss: 0.0073 - mae: 0.0544 - val_loss: 0.0061 - val_mae: 0.0438\n",
      "Epoch 47/100\n",
      "49/49 [==============================] - 0s 3ms/step - loss: 0.0073 - mae: 0.0550 - val_loss: 0.0056 - val_mae: 0.0500\n",
      "Epoch 48/100\n",
      "49/49 [==============================] - 0s 3ms/step - loss: 0.0072 - mae: 0.0548 - val_loss: 0.0058 - val_mae: 0.0456\n",
      "Epoch 49/100\n",
      "49/49 [==============================] - 0s 3ms/step - loss: 0.0072 - mae: 0.0543 - val_loss: 0.0057 - val_mae: 0.0467\n",
      "Epoch 50/100\n",
      "49/49 [==============================] - 0s 3ms/step - loss: 0.0073 - mae: 0.0547 - val_loss: 0.0057 - val_mae: 0.0463\n",
      "Epoch 51/100\n",
      "49/49 [==============================] - 0s 3ms/step - loss: 0.0071 - mae: 0.0550 - val_loss: 0.0057 - val_mae: 0.0456\n",
      "Epoch 52/100\n",
      "49/49 [==============================] - 0s 4ms/step - loss: 0.0071 - mae: 0.0534 - val_loss: 0.0059 - val_mae: 0.0418\n",
      "Epoch 53/100\n",
      "49/49 [==============================] - 0s 2ms/step - loss: 0.0070 - mae: 0.0528 - val_loss: 0.0056 - val_mae: 0.0462\n",
      "Epoch 54/100\n",
      "49/49 [==============================] - 0s 3ms/step - loss: 0.0070 - mae: 0.0534 - val_loss: 0.0056 - val_mae: 0.0472\n",
      "Epoch 55/100\n",
      "49/49 [==============================] - 0s 3ms/step - loss: 0.0069 - mae: 0.0523 - val_loss: 0.0058 - val_mae: 0.0430\n",
      "Epoch 56/100\n",
      "49/49 [==============================] - 0s 3ms/step - loss: 0.0069 - mae: 0.0524 - val_loss: 0.0056 - val_mae: 0.0459\n",
      "Epoch 57/100\n",
      "49/49 [==============================] - 0s 3ms/step - loss: 0.0070 - mae: 0.0528 - val_loss: 0.0057 - val_mae: 0.0438\n",
      "Epoch 58/100\n",
      "49/49 [==============================] - 0s 4ms/step - loss: 0.0069 - mae: 0.0532 - val_loss: 0.0057 - val_mae: 0.0430\n",
      "Epoch 59/100\n",
      "49/49 [==============================] - 0s 3ms/step - loss: 0.0068 - mae: 0.0518 - val_loss: 0.0057 - val_mae: 0.0473\n",
      "Epoch 60/100\n",
      "49/49 [==============================] - 0s 2ms/step - loss: 0.0069 - mae: 0.0537 - val_loss: 0.0059 - val_mae: 0.0438\n",
      "Epoch 61/100\n",
      "49/49 [==============================] - 0s 3ms/step - loss: 0.0067 - mae: 0.0501 - val_loss: 0.0056 - val_mae: 0.0498\n",
      "Epoch 62/100\n",
      "49/49 [==============================] - 0s 3ms/step - loss: 0.0067 - mae: 0.0520 - val_loss: 0.0058 - val_mae: 0.0466\n",
      "Epoch 63/100\n",
      "49/49 [==============================] - 0s 3ms/step - loss: 0.0067 - mae: 0.0512 - val_loss: 0.0059 - val_mae: 0.0430\n",
      "Epoch 64/100\n",
      "49/49 [==============================] - 0s 3ms/step - loss: 0.0067 - mae: 0.0507 - val_loss: 0.0057 - val_mae: 0.0451\n",
      "Epoch 65/100\n",
      "49/49 [==============================] - 0s 3ms/step - loss: 0.0067 - mae: 0.0514 - val_loss: 0.0059 - val_mae: 0.0434\n",
      "Epoch 66/100\n",
      "49/49 [==============================] - 0s 3ms/step - loss: 0.0066 - mae: 0.0499 - val_loss: 0.0057 - val_mae: 0.0499\n",
      "Epoch 67/100\n",
      "49/49 [==============================] - 0s 3ms/step - loss: 0.0066 - mae: 0.0508 - val_loss: 0.0057 - val_mae: 0.0473\n",
      "Epoch 68/100\n",
      "49/49 [==============================] - 0s 4ms/step - loss: 0.0066 - mae: 0.0511 - val_loss: 0.0057 - val_mae: 0.0475\n",
      "Epoch 69/100\n",
      "49/49 [==============================] - 0s 4ms/step - loss: 0.0066 - mae: 0.0511 - val_loss: 0.0060 - val_mae: 0.0424\n",
      "Epoch 70/100\n",
      "49/49 [==============================] - 0s 2ms/step - loss: 0.0066 - mae: 0.0496 - val_loss: 0.0061 - val_mae: 0.0431\n",
      "Epoch 71/100\n",
      "49/49 [==============================] - 0s 3ms/step - loss: 0.0066 - mae: 0.0509 - val_loss: 0.0061 - val_mae: 0.0429\n",
      "Epoch 72/100\n",
      "49/49 [==============================] - 0s 3ms/step - loss: 0.0066 - mae: 0.0501 - val_loss: 0.0058 - val_mae: 0.0516\n",
      "Epoch 73/100\n",
      "49/49 [==============================] - 0s 3ms/step - loss: 0.0066 - mae: 0.0509 - val_loss: 0.0059 - val_mae: 0.0439\n",
      "Epoch 74/100\n",
      "49/49 [==============================] - 0s 3ms/step - loss: 0.0065 - mae: 0.0502 - val_loss: 0.0059 - val_mae: 0.0447\n",
      "Epoch 75/100\n",
      "49/49 [==============================] - 0s 2ms/step - loss: 0.0065 - mae: 0.0493 - val_loss: 0.0059 - val_mae: 0.0440\n",
      "Epoch 76/100\n",
      "49/49 [==============================] - 0s 3ms/step - loss: 0.0065 - mae: 0.0494 - val_loss: 0.0059 - val_mae: 0.0440\n",
      "Epoch 77/100\n",
      "49/49 [==============================] - 0s 3ms/step - loss: 0.0064 - mae: 0.0496 - val_loss: 0.0059 - val_mae: 0.0453\n",
      "Epoch 78/100\n",
      "49/49 [==============================] - 0s 4ms/step - loss: 0.0064 - mae: 0.0499 - val_loss: 0.0059 - val_mae: 0.0447\n",
      "Epoch 79/100\n",
      "49/49 [==============================] - 0s 3ms/step - loss: 0.0064 - mae: 0.0486 - val_loss: 0.0059 - val_mae: 0.0465\n",
      "Epoch 80/100\n",
      "49/49 [==============================] - 0s 3ms/step - loss: 0.0064 - mae: 0.0493 - val_loss: 0.0059 - val_mae: 0.0489\n",
      "Epoch 81/100\n",
      "49/49 [==============================] - 0s 3ms/step - loss: 0.0064 - mae: 0.0493 - val_loss: 0.0059 - val_mae: 0.0467\n",
      "Epoch 82/100\n",
      "49/49 [==============================] - 0s 3ms/step - loss: 0.0064 - mae: 0.0491 - val_loss: 0.0059 - val_mae: 0.0475\n",
      "Epoch 83/100\n",
      "49/49 [==============================] - 0s 5ms/step - loss: 0.0063 - mae: 0.0485 - val_loss: 0.0061 - val_mae: 0.0442\n",
      "Epoch 84/100\n",
      "49/49 [==============================] - 0s 3ms/step - loss: 0.0064 - mae: 0.0497 - val_loss: 0.0058 - val_mae: 0.0459\n",
      "Epoch 85/100\n",
      "49/49 [==============================] - 0s 3ms/step - loss: 0.0065 - mae: 0.0507 - val_loss: 0.0059 - val_mae: 0.0502\n",
      "Epoch 86/100\n",
      "49/49 [==============================] - 0s 4ms/step - loss: 0.0064 - mae: 0.0480 - val_loss: 0.0059 - val_mae: 0.0482\n",
      "Epoch 87/100\n",
      "49/49 [==============================] - 0s 3ms/step - loss: 0.0063 - mae: 0.0495 - val_loss: 0.0065 - val_mae: 0.0444\n",
      "Epoch 88/100\n",
      "49/49 [==============================] - 0s 2ms/step - loss: 0.0064 - mae: 0.0491 - val_loss: 0.0061 - val_mae: 0.0444\n",
      "Epoch 89/100\n",
      "49/49 [==============================] - 0s 2ms/step - loss: 0.0064 - mae: 0.0498 - val_loss: 0.0065 - val_mae: 0.0446\n",
      "Epoch 90/100\n",
      "49/49 [==============================] - 0s 3ms/step - loss: 0.0063 - mae: 0.0484 - val_loss: 0.0058 - val_mae: 0.0513\n",
      "Epoch 91/100\n",
      "49/49 [==============================] - 0s 3ms/step - loss: 0.0063 - mae: 0.0490 - val_loss: 0.0059 - val_mae: 0.0471\n",
      "Epoch 92/100\n",
      "49/49 [==============================] - 0s 3ms/step - loss: 0.0064 - mae: 0.0487 - val_loss: 0.0061 - val_mae: 0.0457\n",
      "Epoch 93/100\n",
      "49/49 [==============================] - 0s 4ms/step - loss: 0.0063 - mae: 0.0486 - val_loss: 0.0059 - val_mae: 0.0506\n",
      "Epoch 94/100\n",
      "49/49 [==============================] - 0s 3ms/step - loss: 0.0063 - mae: 0.0488 - val_loss: 0.0060 - val_mae: 0.0520\n",
      "Epoch 95/100\n",
      "49/49 [==============================] - 0s 3ms/step - loss: 0.0062 - mae: 0.0498 - val_loss: 0.0061 - val_mae: 0.0448\n",
      "Epoch 96/100\n",
      "49/49 [==============================] - 0s 4ms/step - loss: 0.0062 - mae: 0.0479 - val_loss: 0.0061 - val_mae: 0.0458\n",
      "Epoch 97/100\n",
      "49/49 [==============================] - 0s 3ms/step - loss: 0.0062 - mae: 0.0486 - val_loss: 0.0063 - val_mae: 0.0437\n",
      "Epoch 98/100\n",
      "49/49 [==============================] - 0s 4ms/step - loss: 0.0062 - mae: 0.0479 - val_loss: 0.0059 - val_mae: 0.0462\n",
      "Epoch 99/100\n",
      "49/49 [==============================] - 0s 3ms/step - loss: 0.0062 - mae: 0.0473 - val_loss: 0.0059 - val_mae: 0.0513\n",
      "Epoch 100/100\n",
      "49/49 [==============================] - 0s 2ms/step - loss: 0.0063 - mae: 0.0488 - val_loss: 0.0059 - val_mae: 0.0502\n"
     ]
    }
   ],
   "source": [
    "# Create and train model\n",
    "model = Sequential()\n",
    "model.add(Dense(8, activation='relu', input_dim=X_train_nn.shape[1]))\n",
    "model.add(Dense(1))\n",
    "model.compile(optimizer=Adam(), loss='mse', metrics=['mae'])\n",
    "\n",
    "history = model.fit(X_train_nn, y_train_nn, epochs=100, batch_size=20, validation_split=0.1)"
   ]
  },
  {
   "cell_type": "code",
   "execution_count": 17,
   "metadata": {},
   "outputs": [
    {
     "data": {
      "image/png": "[encoded data removed]",
      "text/plain": [
       "<Figure size 640x480 with 1 Axes>"
      ]
     },
     "metadata": {},
     "output_type": "display_data"
    }
   ],
   "source": [
    "trainingLoss = history.history['loss']\n",
    "validationLoss = history.history['val_loss']\n",
    "epochs = range(1, len(trainingLoss) + 1)\n",
    "\n",
    "plt.figure()\n",
    "plt.plot(epochs, trainingLoss, 'r-', label='Training loss')\n",
    "plt.plot(epochs, validationLoss, 'b-', label='Validation loss')\n",
    "plt.title('Training Loss & Validation Loss')\n",
    "plt.xlabel('Epochs')\n",
    "plt.ylabel('Loss')\n",
    "plt.legend()\n",
    "plt.show()"
   ]
  },
  {
   "cell_type": "code",
   "execution_count": 16,
   "metadata": {},
   "outputs": [
    {
     "data": {
      "image/png": "[encoded data removed]",
      "text/plain": [
       "<Figure size 640x480 with 1 Axes>"
      ]
     },
     "metadata": {},
     "output_type": "display_data"
    }
   ],
   "source": [
    "# plot training loss\n",
    "mae = history.history['mae']\n",
    "plt.plot(mae, color='red')\n",
    "plt.title('Mean Abosolute Error')\n",
    "plt.ylabel('mae')\n",
    "plt.xlabel('Epochs')\n",
    "plt.legend(['train'])\n",
    "plt.show()"
   ]
  },
  {
   "cell_type": "code",
   "execution_count": 18,
   "metadata": {},
   "outputs": [
    {
     "name": "stdout",
     "output_type": "stream",
     "text": [
      "9/9 [==============================] - 0s 1ms/step\n",
      "Neural Network Model Performance:\n",
      "Mean Squared Error: 0.0063730308498444405\n",
      "Mean Absolute Error: 0.05369061513137277\n",
      "Root Mean Squared Error: 0.07983126486436527\n",
      "R-squared: 0.8388834829779268\n"
     ]
    }
   ],
   "source": [
    "# Evaluate the performance of the neural network model\n",
    "y_pred_nn = model.predict(X_test_nn)\n",
    "mse_nn = mean_squared_error(y_test_nn, y_pred_nn)\n",
    "mae_nn = np.mean(np.abs(y_test_nn - y_pred_nn))\n",
    "rmse_nn = np.sqrt(mse_nn)\n",
    "r2_nn = r2_score(y_test_nn, y_pred_nn)\n",
    "\n",
    "print(\"Neural Network Model Performance:\")\n",
    "print(\"Mean Squared Error:\", mse_nn)\n",
    "print(\"Mean Absolute Error:\", mae_nn)\n",
    "print(\"Root Mean Squared Error:\", rmse_nn)\n",
    "print(\"R-squared:\", r2_nn)"
   ]
  },
  {
   "cell_type": "markdown",
   "metadata": {},
   "source": [
    "## 8. Model Comparison\n",
    "Code for evaluating and comparing the performance of different models."
   ]
  },
  {
   "cell_type": "code",
   "execution_count": null,
   "metadata": {},
   "outputs": [],
   "source": []
  }
 ],
 "metadata": {
  "kernelspec": {
   "display_name": "Python 3",
   "language": "python",
   "name": "python3"
  },
  "language_info": {
   "codemirror_mode": {
    "name": "ipython",
    "version": 3
   },
   "file_extension": ".py",
   "mimetype": "text/x-python",
   "name": "python",
   "nbconvert_exporter": "python",
   "pygments_lexer": "ipython3",
   "version": "3.10.11"
  }
 },
 "nbformat": 4,
 "nbformat_minor": 2
}
